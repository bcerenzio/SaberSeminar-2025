{
 "cells": [
  {
   "cell_type": "code",
   "execution_count": 1,
   "id": "104f5125-dfc4-4b6e-b940-e07a39c258e6",
   "metadata": {},
   "outputs": [
    {
     "name": "stdout",
     "output_type": "stream",
     "text": [
      "Intel MKL WARNING: Support of Intel(R) Streaming SIMD Extensions 4.2 (Intel(R) SSE4.2) enabled only processors has been deprecated. Intel oneAPI Math Kernel Library 2025.0 will require Intel(R) Advanced Vector Extensions (Intel(R) AVX) instructions.\n",
      "Intel MKL WARNING: Support of Intel(R) Streaming SIMD Extensions 4.2 (Intel(R) SSE4.2) enabled only processors has been deprecated. Intel oneAPI Math Kernel Library 2025.0 will require Intel(R) Advanced Vector Extensions (Intel(R) AVX) instructions.\n"
     ]
    }
   ],
   "source": [
    "from pybaseball.lahman import *\n",
    "from pybaseball import playerid_reverse_lookup\n",
    "import pandas as pd, numpy as np"
   ]
  },
  {
   "cell_type": "code",
   "execution_count": 2,
   "id": "47ee2d3c-0145-4b22-8e25-4f6ddea02e25",
   "metadata": {},
   "outputs": [],
   "source": [
    "lahman = pd.read_csv('lahman_people.csv')"
   ]
  },
  {
   "cell_type": "code",
   "execution_count": 4,
   "id": "bc6a5022-1467-447b-b29a-116cf9d1e562",
   "metadata": {},
   "outputs": [],
   "source": [
    "retroids = lahman[lahman.finalGame >= '2015-01-01'].retroID"
   ]
  },
  {
   "cell_type": "code",
   "execution_count": 5,
   "id": "291a872c-5503-4ea5-8fe8-cd7c0d59451d",
   "metadata": {},
   "outputs": [
    {
     "data": {
      "text/plain": [
       "0        aardd001\n",
       "5        abadf001\n",
       "10       abboc001\n",
       "32       abrac001\n",
       "35       abrea001\n",
       "           ...   \n",
       "20932    bowlj001\n",
       "20933    cacek001\n",
       "20934    gomey002\n",
       "20935    bousc001\n",
       "20936    seagc002\n",
       "Name: retroID, Length: 3522, dtype: object"
      ]
     },
     "execution_count": 5,
     "metadata": {},
     "output_type": "execute_result"
    }
   ],
   "source": [
    "retroids"
   ]
  },
  {
   "cell_type": "code",
   "execution_count": 9,
   "id": "7de4ede4-d737-4fee-aa88-1bfea062e56f",
   "metadata": {},
   "outputs": [],
   "source": [
    "player_ids = playerid_reverse_lookup(lahman.retroID, key_type='retro')"
   ]
  },
  {
   "cell_type": "code",
   "execution_count": 10,
   "id": "a4e906e0-f1a0-4680-b14a-0b4bd0423119",
   "metadata": {},
   "outputs": [],
   "source": [
    "player_ids.to_csv('player_id_lookup.csv', index= False)"
   ]
  }
 ],
 "metadata": {
  "kernelspec": {
   "display_name": "Python 3 (ipykernel)",
   "language": "python",
   "name": "python3"
  },
  "language_info": {
   "codemirror_mode": {
    "name": "ipython",
    "version": 3
   },
   "file_extension": ".py",
   "mimetype": "text/x-python",
   "name": "python",
   "nbconvert_exporter": "python",
   "pygments_lexer": "ipython3",
   "version": "3.9.18"
  }
 },
 "nbformat": 4,
 "nbformat_minor": 5
}
